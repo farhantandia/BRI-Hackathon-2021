{
 "cells": [
  {
   "cell_type": "code",
   "execution_count": 1,
   "metadata": {
    "_cell_guid": "b1076dfc-b9ad-4769-8c92-a6c4dae69d19",
    "_uuid": "8f2839f25d086af736a60e9eeb907d3b93b6e0e5",
    "execution": {
     "iopub.execute_input": "2020-12-10T13:19:17.176694Z",
     "iopub.status.busy": "2020-12-10T13:19:17.175938Z",
     "iopub.status.idle": "2020-12-10T13:19:18.547903Z",
     "shell.execute_reply": "2020-12-10T13:19:18.547236Z"
    },
    "papermill": {
     "duration": 1.395025,
     "end_time": "2020-12-10T13:19:18.548052",
     "exception": false,
     "start_time": "2020-12-10T13:19:17.153027",
     "status": "completed"
    },
    "tags": []
   },
   "outputs": [],
   "source": [
    "import numpy as np # linear algebra\n",
    "import pandas as pd # data processing, CSV file I/O (e.g. pd.read_csv)\n",
    "from sklearn.preprocessing import StandardScaler, LabelEncoder, MinMaxScaler\n",
    "from sklearn.model_selection import train_test_split\n",
    "from sklearn.metrics import roc_auc_score\n",
    "import lightgbm as lgb\n",
    "from bayes_opt import BayesianOptimization\n",
    "\n",
    "import matplotlib.pyplot as plt\n",
    "import seaborn as sns\n",
    "import os\n",
    "for dirname, _, filenames in os.walk('/kaggle/input'):\n",
    "    for filename in filenames:\n",
    "#         print(os.path.join(dirname, filename))\n",
    "        pass"
   ]
  },
  {
   "cell_type": "code",
   "execution_count": 30,
   "metadata": {
    "_cell_guid": "79c7e3d0-c299-4dcb-8224-4455121ee9b0",
    "_uuid": "d629ff2d2480ee46fbb7e2d37f6b5fab8052498a",
    "execution": {
     "iopub.execute_input": "2020-12-10T13:19:18.586395Z",
     "iopub.status.busy": "2020-12-10T13:19:18.585558Z",
     "iopub.status.idle": "2020-12-10T13:19:18.872539Z",
     "shell.execute_reply": "2020-12-10T13:19:18.871703Z"
    },
    "papermill": {
     "duration": 0.308918,
     "end_time": "2020-12-10T13:19:18.872670",
     "exception": false,
     "start_time": "2020-12-10T13:19:18.563752",
     "status": "completed"
    },
    "tags": []
   },
   "outputs": [],
   "source": [
    "all_train_data = pd.read_csv('train.csv')\n",
    "all_test_data = pd.read_csv('test.csv')\n",
    "sample_submission = pd.read_csv('sample_submission.csv')\n",
    "all_train_data.dropna(inplace=True)\n",
    "all_test_data.dropna(inplace=True)\n",
    "\n",
    "dropped_columns = ['GPA','year_graduated']\n",
    "y_train = all_train_data['Best Performance']\n",
    "X_train = all_train_data.drop('Best Performance',axis=1)\n",
    "\n",
    "#read x_test\n",
    "for col in dropped_columns:\n",
    "    X_train = X_train.drop(col,axis=1)\n",
    "X_test = all_test_data\n",
    "\n",
    "for col in dropped_columns:\n",
    "    X_test = X_test.drop(col,axis=1)\n"
   ]
  },
  {
   "cell_type": "code",
   "execution_count": 31,
   "metadata": {
    "scrolled": true
   },
   "outputs": [
    {
     "data": {
      "text/plain": [
       "job_level                                0\n",
       "job_duration_in_current_job_level        0\n",
       "person_level                             0\n",
       "job_duration_in_current_person_level     0\n",
       "job_duration_in_current_branch           0\n",
       "Employee_type                            0\n",
       "gender                                   0\n",
       "age                                      0\n",
       "marital_status_maried(Y/N)               0\n",
       "number_of_dependences                    0\n",
       "Education_level                          0\n",
       "job_duration_from_training               0\n",
       "branch_rotation                          0\n",
       "job_rotation                             0\n",
       "assign_of_otherposition                  0\n",
       "annual leave                             0\n",
       "sick_leaves                              0\n",
       "Last_achievement_%                       0\n",
       "Achievement_above_100%_during3quartal    0\n",
       "dtype: int64"
      ]
     },
     "execution_count": 31,
     "metadata": {},
     "output_type": "execute_result"
    }
   ],
   "source": [
    "X_train.isna().sum()"
   ]
  },
  {
   "cell_type": "code",
   "execution_count": 32,
   "metadata": {},
   "outputs": [],
   "source": [
    "tahun = 2020\n",
    "X_train['age'] = tahun - X_train['age']\n",
    "X_test['age'] = tahun - X_test['age']\n"
   ]
  },
  {
   "cell_type": "code",
   "execution_count": 33,
   "metadata": {
    "scrolled": true
   },
   "outputs": [
    {
     "data": {
      "text/plain": [
       "32    1558\n",
       "33    1473\n",
       "34    1348\n",
       "31    1323\n",
       "35     954\n",
       "30     926\n",
       "36     654\n",
       "29     510\n",
       "37     472\n",
       "38     286\n",
       "39     240\n",
       "40     228\n",
       "28     192\n",
       "41     154\n",
       "42     121\n",
       "43      92\n",
       "44      73\n",
       "45      55\n",
       "27      55\n",
       "46      47\n",
       "47      45\n",
       "52      44\n",
       "51      41\n",
       "50      38\n",
       "49      38\n",
       "53      35\n",
       "48      35\n",
       "56      29\n",
       "55      27\n",
       "54      25\n",
       "26      16\n",
       "25       7\n",
       "57       6\n",
       "24       4\n",
       "23       1\n",
       "Name: age, dtype: int64"
      ]
     },
     "execution_count": 33,
     "metadata": {},
     "output_type": "execute_result"
    }
   ],
   "source": [
    "X_train['age'].value_counts()"
   ]
  },
  {
   "cell_type": "code",
   "execution_count": 45,
   "metadata": {},
   "outputs": [
    {
     "data": {
      "text/plain": [
       "['job_duration_in_current_job_level',\n",
       " 'job_duration_in_current_person_level',\n",
       " 'job_duration_in_current_branch',\n",
       " 'gender',\n",
       " 'age',\n",
       " 'number_of_dependences',\n",
       " 'job_duration_from_training',\n",
       " 'branch_rotation',\n",
       " 'job_rotation',\n",
       " 'assign_of_otherposition',\n",
       " 'annual leave',\n",
       " 'sick_leaves',\n",
       " 'Last_achievement_%',\n",
       " 'Achievement_above_100%_during3quartal']"
      ]
     },
     "execution_count": 45,
     "metadata": {},
     "output_type": "execute_result"
    }
   ],
   "source": [
    "# data contain values\n",
    "cont_col=[col for col in X_train.columns if X_train[col].dtype!='O']\n",
    "cont_col_test=[col for col in X_test.columns if X_test[col].dtype!='O']\n",
    "cont_col"
   ]
  },
  {
   "cell_type": "code",
   "execution_count": 46,
   "metadata": {},
   "outputs": [
    {
     "data": {
      "text/plain": [
       "['job_duration_in_current_job_level',\n",
       " 'job_duration_in_current_person_level',\n",
       " 'job_duration_in_current_branch',\n",
       " 'gender',\n",
       " 'age',\n",
       " 'number_of_dependences',\n",
       " 'job_duration_from_training',\n",
       " 'branch_rotation',\n",
       " 'job_rotation',\n",
       " 'assign_of_otherposition',\n",
       " 'annual leave',\n",
       " 'sick_leaves',\n",
       " 'Last_achievement_%',\n",
       " 'Achievement_above_100%_during3quartal']"
      ]
     },
     "execution_count": 46,
     "metadata": {},
     "output_type": "execute_result"
    }
   ],
   "source": [
    "cont_col_test"
   ]
  },
  {
   "cell_type": "code",
   "execution_count": 36,
   "metadata": {},
   "outputs": [
    {
     "data": {
      "text/plain": [
       "['job_level',\n",
       " 'person_level',\n",
       " 'Employee_type',\n",
       " 'marital_status_maried(Y/N)',\n",
       " 'Education_level']"
      ]
     },
     "execution_count": 36,
     "metadata": {},
     "output_type": "execute_result"
    }
   ],
   "source": [
    "# data contain category\n",
    "cat_col=[col for col in X_train.columns if X_train[col].dtype=='O']\n",
    "cat_col_test=[col for col in X_test.columns if X_test[col].dtype=='O']\n",
    "cat_col_test"
   ]
  },
  {
   "cell_type": "code",
   "execution_count": 37,
   "metadata": {},
   "outputs": [
    {
     "data": {
      "text/html": [
       "<div>\n",
       "<style scoped>\n",
       "    .dataframe tbody tr th:only-of-type {\n",
       "        vertical-align: middle;\n",
       "    }\n",
       "\n",
       "    .dataframe tbody tr th {\n",
       "        vertical-align: top;\n",
       "    }\n",
       "\n",
       "    .dataframe thead th {\n",
       "        text-align: right;\n",
       "    }\n",
       "</style>\n",
       "<table border=\"1\" class=\"dataframe\">\n",
       "  <thead>\n",
       "    <tr style=\"text-align: right;\">\n",
       "      <th></th>\n",
       "      <th>job_level</th>\n",
       "      <th>person_level</th>\n",
       "      <th>Employee_type</th>\n",
       "      <th>marital_status_maried(Y/N)</th>\n",
       "      <th>Education_level</th>\n",
       "    </tr>\n",
       "  </thead>\n",
       "  <tbody>\n",
       "    <tr>\n",
       "      <th>0</th>\n",
       "      <td>JG04</td>\n",
       "      <td>PG03</td>\n",
       "      <td>RM_type_A</td>\n",
       "      <td>Y</td>\n",
       "      <td>level_0</td>\n",
       "    </tr>\n",
       "    <tr>\n",
       "      <th>1</th>\n",
       "      <td>JG04</td>\n",
       "      <td>PG03</td>\n",
       "      <td>RM_type_A</td>\n",
       "      <td>Y</td>\n",
       "      <td>level_1</td>\n",
       "    </tr>\n",
       "    <tr>\n",
       "      <th>2</th>\n",
       "      <td>JG05</td>\n",
       "      <td>PG06</td>\n",
       "      <td>RM_type_C</td>\n",
       "      <td>Y</td>\n",
       "      <td>level_1</td>\n",
       "    </tr>\n",
       "    <tr>\n",
       "      <th>3</th>\n",
       "      <td>JG05</td>\n",
       "      <td>PG06</td>\n",
       "      <td>RM_type_A</td>\n",
       "      <td>Y</td>\n",
       "      <td>level_1</td>\n",
       "    </tr>\n",
       "    <tr>\n",
       "      <th>4</th>\n",
       "      <td>JG05</td>\n",
       "      <td>PG06</td>\n",
       "      <td>RM_type_A</td>\n",
       "      <td>Y</td>\n",
       "      <td>level_1</td>\n",
       "    </tr>\n",
       "  </tbody>\n",
       "</table>\n",
       "</div>"
      ],
      "text/plain": [
       "  job_level person_level Employee_type marital_status_maried(Y/N)  \\\n",
       "0      JG04         PG03     RM_type_A                          Y   \n",
       "1      JG04         PG03     RM_type_A                          Y   \n",
       "2      JG05         PG06     RM_type_C                          Y   \n",
       "3      JG05         PG06     RM_type_A                          Y   \n",
       "4      JG05         PG06     RM_type_A                          Y   \n",
       "\n",
       "  Education_level  \n",
       "0         level_0  \n",
       "1         level_1  \n",
       "2         level_1  \n",
       "3         level_1  \n",
       "4         level_1  "
      ]
     },
     "execution_count": 37,
     "metadata": {},
     "output_type": "execute_result"
    }
   ],
   "source": [
    "categorical=X_train[cat_col]\n",
    "categorical_test=X_test[cat_col_test]\n",
    "categorical.head()"
   ]
  },
  {
   "cell_type": "code",
   "execution_count": 38,
   "metadata": {
    "scrolled": true
   },
   "outputs": [
    {
     "name": "stdout",
     "output_type": "stream",
     "text": [
      "job_level has total 3 categories \n",
      "\n",
      "person_level has total 8 categories \n",
      "\n",
      "Employee_type has total 3 categories \n",
      "\n",
      "marital_status_maried(Y/N) has total 2 categories \n",
      "\n",
      "Education_level has total 6 categories \n",
      "\n",
      "---------------------------\n",
      "job_level has total 4 categories \n",
      "\n",
      "person_level has total 7 categories \n",
      "\n",
      "Employee_type has total 3 categories \n",
      "\n",
      "marital_status_maried(Y/N) has total 2 categories \n",
      "\n",
      "Education_level has total 6 categories \n",
      "\n"
     ]
    }
   ],
   "source": [
    "#now extract how many categories in each cat_feature\n",
    "for feature in categorical.columns:\n",
    "    print('{} has total {} categories \\n'.format(feature,len(categorical[feature].value_counts())))\n",
    "print('---------------------------')\n",
    "for feature in categorical_test.columns:\n",
    "    print('{} has total {} categories \\n'.format(feature,len(categorical_test[feature].value_counts())))"
   ]
  },
  {
   "cell_type": "code",
   "execution_count": 39,
   "metadata": {
    "scrolled": true
   },
   "outputs": [
    {
     "data": {
      "text/plain": [
       "JG04    10412\n",
       "JG05      704\n",
       "JG03       36\n",
       "Name: job_level, dtype: int64"
      ]
     },
     "execution_count": 39,
     "metadata": {},
     "output_type": "execute_result"
    }
   ],
   "source": [
    "categorical['job_level'].value_counts()"
   ]
  },
  {
   "cell_type": "code",
   "execution_count": 19,
   "metadata": {},
   "outputs": [
    {
     "data": {
      "text/plain": [
       "JG04    5616\n",
       "JG05     372\n",
       "JG03      11\n",
       "JG06       1\n",
       "Name: job_level, dtype: int64"
      ]
     },
     "execution_count": 19,
     "metadata": {},
     "output_type": "execute_result"
    }
   ],
   "source": [
    "categorical_test['job_level'].value_counts()"
   ]
  },
  {
   "cell_type": "code",
   "execution_count": null,
   "metadata": {
    "scrolled": true
   },
   "outputs": [],
   "source": [
    "categorical['person_level'].value_counts()"
   ]
  },
  {
   "cell_type": "code",
   "execution_count": null,
   "metadata": {},
   "outputs": [],
   "source": [
    "categorical_test['person_level'].value_counts()"
   ]
  },
  {
   "cell_type": "code",
   "execution_count": null,
   "metadata": {
    "scrolled": true
   },
   "outputs": [],
   "source": [
    "categorical['marital_status_maried(Y/N)'].value_counts()"
   ]
  },
  {
   "cell_type": "code",
   "execution_count": null,
   "metadata": {
    "scrolled": true
   },
   "outputs": [],
   "source": [
    "categorical['Education_level'].value_counts()"
   ]
  },
  {
   "cell_type": "code",
   "execution_count": null,
   "metadata": {},
   "outputs": [],
   "source": [
    "# categorical['marital_status_maried(Y/N)'].unique()"
   ]
  },
  {
   "cell_type": "code",
   "execution_count": 40,
   "metadata": {
    "scrolled": true
   },
   "outputs": [
    {
     "name": "stderr",
     "output_type": "stream",
     "text": [
      "C:\\Users\\farha\\Anaconda3\\envs\\tensorflow_gpu\\lib\\site-packages\\ipykernel_launcher.py:4: SettingWithCopyWarning: \n",
      "A value is trying to be set on a copy of a slice from a DataFrame.\n",
      "Try using .loc[row_indexer,col_indexer] = value instead\n",
      "\n",
      "See the caveats in the documentation: https://pandas.pydata.org/pandas-docs/stable/user_guide/indexing.html#returning-a-view-versus-a-copy\n",
      "  after removing the cwd from sys.path.\n",
      "C:\\Users\\farha\\Anaconda3\\envs\\tensorflow_gpu\\lib\\site-packages\\ipykernel_launcher.py:5: SettingWithCopyWarning: \n",
      "A value is trying to be set on a copy of a slice from a DataFrame.\n",
      "Try using .loc[row_indexer,col_indexer] = value instead\n",
      "\n",
      "See the caveats in the documentation: https://pandas.pydata.org/pandas-docs/stable/user_guide/indexing.html#returning-a-view-versus-a-copy\n",
      "  \"\"\"\n"
     ]
    }
   ],
   "source": [
    "from sklearn.preprocessing import LabelEncoder\n",
    "encoder=LabelEncoder()\n",
    "for i in ['job_level', 'person_level', 'Employee_type', 'marital_status_maried(Y/N)','Education_level']:\n",
    "    categorical[i]=encoder.fit_transform(categorical[i])\n",
    "    categorical_test[i]=encoder.fit_transform(categorical_test[i])"
   ]
  },
  {
   "cell_type": "code",
   "execution_count": 41,
   "metadata": {
    "scrolled": true
   },
   "outputs": [
    {
     "data": {
      "text/html": [
       "<div>\n",
       "<style scoped>\n",
       "    .dataframe tbody tr th:only-of-type {\n",
       "        vertical-align: middle;\n",
       "    }\n",
       "\n",
       "    .dataframe tbody tr th {\n",
       "        vertical-align: top;\n",
       "    }\n",
       "\n",
       "    .dataframe thead th {\n",
       "        text-align: right;\n",
       "    }\n",
       "</style>\n",
       "<table border=\"1\" class=\"dataframe\">\n",
       "  <thead>\n",
       "    <tr style=\"text-align: right;\">\n",
       "      <th></th>\n",
       "      <th>job_duration_in_current_job_level</th>\n",
       "      <th>job_duration_in_current_person_level</th>\n",
       "      <th>job_duration_in_current_branch</th>\n",
       "      <th>gender</th>\n",
       "      <th>age</th>\n",
       "      <th>number_of_dependences</th>\n",
       "      <th>job_duration_from_training</th>\n",
       "      <th>branch_rotation</th>\n",
       "      <th>job_rotation</th>\n",
       "      <th>assign_of_otherposition</th>\n",
       "      <th>annual leave</th>\n",
       "      <th>sick_leaves</th>\n",
       "      <th>Last_achievement_%</th>\n",
       "      <th>Achievement_above_100%_during3quartal</th>\n",
       "    </tr>\n",
       "  </thead>\n",
       "  <tbody>\n",
       "    <tr>\n",
       "      <th>0</th>\n",
       "      <td>1.352775</td>\n",
       "      <td>1.352775</td>\n",
       "      <td>1.732051</td>\n",
       "      <td>2</td>\n",
       "      <td>35</td>\n",
       "      <td>1</td>\n",
       "      <td>4</td>\n",
       "      <td>2</td>\n",
       "      <td>3</td>\n",
       "      <td>2</td>\n",
       "      <td>3</td>\n",
       "      <td>0</td>\n",
       "      <td>46.37</td>\n",
       "      <td>0.0</td>\n",
       "    </tr>\n",
       "    <tr>\n",
       "      <th>1</th>\n",
       "      <td>1.292285</td>\n",
       "      <td>1.292285</td>\n",
       "      <td>1.039230</td>\n",
       "      <td>2</td>\n",
       "      <td>31</td>\n",
       "      <td>0</td>\n",
       "      <td>4</td>\n",
       "      <td>4</td>\n",
       "      <td>3</td>\n",
       "      <td>0</td>\n",
       "      <td>0</td>\n",
       "      <td>1</td>\n",
       "      <td>47.68</td>\n",
       "      <td>0.0</td>\n",
       "    </tr>\n",
       "    <tr>\n",
       "      <th>2</th>\n",
       "      <td>2.565151</td>\n",
       "      <td>2.308679</td>\n",
       "      <td>1.780449</td>\n",
       "      <td>1</td>\n",
       "      <td>50</td>\n",
       "      <td>1</td>\n",
       "      <td>28</td>\n",
       "      <td>10</td>\n",
       "      <td>9</td>\n",
       "      <td>6</td>\n",
       "      <td>2</td>\n",
       "      <td>1</td>\n",
       "      <td>40.73</td>\n",
       "      <td>0.0</td>\n",
       "    </tr>\n",
       "    <tr>\n",
       "      <th>3</th>\n",
       "      <td>2.828427</td>\n",
       "      <td>1.000000</td>\n",
       "      <td>1.385641</td>\n",
       "      <td>2</td>\n",
       "      <td>53</td>\n",
       "      <td>2</td>\n",
       "      <td>29</td>\n",
       "      <td>11</td>\n",
       "      <td>6</td>\n",
       "      <td>0</td>\n",
       "      <td>4</td>\n",
       "      <td>10</td>\n",
       "      <td>47.42</td>\n",
       "      <td>0.0</td>\n",
       "    </tr>\n",
       "    <tr>\n",
       "      <th>4</th>\n",
       "      <td>2.828427</td>\n",
       "      <td>2.828427</td>\n",
       "      <td>0.707107</td>\n",
       "      <td>2</td>\n",
       "      <td>55</td>\n",
       "      <td>3</td>\n",
       "      <td>30</td>\n",
       "      <td>9</td>\n",
       "      <td>8</td>\n",
       "      <td>2</td>\n",
       "      <td>3</td>\n",
       "      <td>0</td>\n",
       "      <td>47.18</td>\n",
       "      <td>0.0</td>\n",
       "    </tr>\n",
       "    <tr>\n",
       "      <th>...</th>\n",
       "      <td>...</td>\n",
       "      <td>...</td>\n",
       "      <td>...</td>\n",
       "      <td>...</td>\n",
       "      <td>...</td>\n",
       "      <td>...</td>\n",
       "      <td>...</td>\n",
       "      <td>...</td>\n",
       "      <td>...</td>\n",
       "      <td>...</td>\n",
       "      <td>...</td>\n",
       "      <td>...</td>\n",
       "      <td>...</td>\n",
       "      <td>...</td>\n",
       "    </tr>\n",
       "    <tr>\n",
       "      <th>11148</th>\n",
       "      <td>1.256981</td>\n",
       "      <td>1.256981</td>\n",
       "      <td>1.224745</td>\n",
       "      <td>2</td>\n",
       "      <td>34</td>\n",
       "      <td>1</td>\n",
       "      <td>4</td>\n",
       "      <td>3</td>\n",
       "      <td>3</td>\n",
       "      <td>0</td>\n",
       "      <td>4</td>\n",
       "      <td>1</td>\n",
       "      <td>50.87</td>\n",
       "      <td>0.0</td>\n",
       "    </tr>\n",
       "    <tr>\n",
       "      <th>11149</th>\n",
       "      <td>1.385641</td>\n",
       "      <td>1.385641</td>\n",
       "      <td>1.802776</td>\n",
       "      <td>1</td>\n",
       "      <td>32</td>\n",
       "      <td>2</td>\n",
       "      <td>3</td>\n",
       "      <td>1</td>\n",
       "      <td>2</td>\n",
       "      <td>0</td>\n",
       "      <td>6</td>\n",
       "      <td>0</td>\n",
       "      <td>79.91</td>\n",
       "      <td>0.0</td>\n",
       "    </tr>\n",
       "    <tr>\n",
       "      <th>11150</th>\n",
       "      <td>1.256981</td>\n",
       "      <td>1.256981</td>\n",
       "      <td>1.385641</td>\n",
       "      <td>2</td>\n",
       "      <td>29</td>\n",
       "      <td>0</td>\n",
       "      <td>2</td>\n",
       "      <td>1</td>\n",
       "      <td>2</td>\n",
       "      <td>0</td>\n",
       "      <td>4</td>\n",
       "      <td>0</td>\n",
       "      <td>78.38</td>\n",
       "      <td>0.0</td>\n",
       "    </tr>\n",
       "    <tr>\n",
       "      <th>11151</th>\n",
       "      <td>1.118034</td>\n",
       "      <td>1.118034</td>\n",
       "      <td>0.000000</td>\n",
       "      <td>1</td>\n",
       "      <td>33</td>\n",
       "      <td>1</td>\n",
       "      <td>5</td>\n",
       "      <td>5</td>\n",
       "      <td>4</td>\n",
       "      <td>0</td>\n",
       "      <td>4</td>\n",
       "      <td>1</td>\n",
       "      <td>85.94</td>\n",
       "      <td>1.0</td>\n",
       "    </tr>\n",
       "    <tr>\n",
       "      <th>11152</th>\n",
       "      <td>2.828427</td>\n",
       "      <td>2.121320</td>\n",
       "      <td>1.473092</td>\n",
       "      <td>2</td>\n",
       "      <td>40</td>\n",
       "      <td>2</td>\n",
       "      <td>14</td>\n",
       "      <td>5</td>\n",
       "      <td>7</td>\n",
       "      <td>0</td>\n",
       "      <td>2</td>\n",
       "      <td>0</td>\n",
       "      <td>79.99</td>\n",
       "      <td>1.0</td>\n",
       "    </tr>\n",
       "  </tbody>\n",
       "</table>\n",
       "<p>11152 rows × 14 columns</p>\n",
       "</div>"
      ],
      "text/plain": [
       "       job_duration_in_current_job_level  \\\n",
       "0                               1.352775   \n",
       "1                               1.292285   \n",
       "2                               2.565151   \n",
       "3                               2.828427   \n",
       "4                               2.828427   \n",
       "...                                  ...   \n",
       "11148                           1.256981   \n",
       "11149                           1.385641   \n",
       "11150                           1.256981   \n",
       "11151                           1.118034   \n",
       "11152                           2.828427   \n",
       "\n",
       "       job_duration_in_current_person_level  job_duration_in_current_branch  \\\n",
       "0                                  1.352775                        1.732051   \n",
       "1                                  1.292285                        1.039230   \n",
       "2                                  2.308679                        1.780449   \n",
       "3                                  1.000000                        1.385641   \n",
       "4                                  2.828427                        0.707107   \n",
       "...                                     ...                             ...   \n",
       "11148                              1.256981                        1.224745   \n",
       "11149                              1.385641                        1.802776   \n",
       "11150                              1.256981                        1.385641   \n",
       "11151                              1.118034                        0.000000   \n",
       "11152                              2.121320                        1.473092   \n",
       "\n",
       "       gender  age  number_of_dependences  job_duration_from_training  \\\n",
       "0           2   35                      1                           4   \n",
       "1           2   31                      0                           4   \n",
       "2           1   50                      1                          28   \n",
       "3           2   53                      2                          29   \n",
       "4           2   55                      3                          30   \n",
       "...       ...  ...                    ...                         ...   \n",
       "11148       2   34                      1                           4   \n",
       "11149       1   32                      2                           3   \n",
       "11150       2   29                      0                           2   \n",
       "11151       1   33                      1                           5   \n",
       "11152       2   40                      2                          14   \n",
       "\n",
       "       branch_rotation  job_rotation  assign_of_otherposition  annual leave  \\\n",
       "0                    2             3                        2             3   \n",
       "1                    4             3                        0             0   \n",
       "2                   10             9                        6             2   \n",
       "3                   11             6                        0             4   \n",
       "4                    9             8                        2             3   \n",
       "...                ...           ...                      ...           ...   \n",
       "11148                3             3                        0             4   \n",
       "11149                1             2                        0             6   \n",
       "11150                1             2                        0             4   \n",
       "11151                5             4                        0             4   \n",
       "11152                5             7                        0             2   \n",
       "\n",
       "       sick_leaves  Last_achievement_%  Achievement_above_100%_during3quartal  \n",
       "0                0               46.37                                    0.0  \n",
       "1                1               47.68                                    0.0  \n",
       "2                1               40.73                                    0.0  \n",
       "3               10               47.42                                    0.0  \n",
       "4                0               47.18                                    0.0  \n",
       "...            ...                 ...                                    ...  \n",
       "11148            1               50.87                                    0.0  \n",
       "11149            0               79.91                                    0.0  \n",
       "11150            0               78.38                                    0.0  \n",
       "11151            1               85.94                                    1.0  \n",
       "11152            0               79.99                                    1.0  \n",
       "\n",
       "[11152 rows x 14 columns]"
      ]
     },
     "execution_count": 41,
     "metadata": {},
     "output_type": "execute_result"
    }
   ],
   "source": [
    "X_train[cont_col]"
   ]
  },
  {
   "cell_type": "code",
   "execution_count": 42,
   "metadata": {},
   "outputs": [],
   "source": [
    "def drop_column(df,col):\n",
    "    df.drop(col,axis=1,inplace=True)"
   ]
  },
  {
   "cell_type": "code",
   "execution_count": 24,
   "metadata": {
    "scrolled": true
   },
   "outputs": [
    {
     "data": {
      "text/html": [
       "<div>\n",
       "<style scoped>\n",
       "    .dataframe tbody tr th:only-of-type {\n",
       "        vertical-align: middle;\n",
       "    }\n",
       "\n",
       "    .dataframe tbody tr th {\n",
       "        vertical-align: top;\n",
       "    }\n",
       "\n",
       "    .dataframe thead th {\n",
       "        text-align: right;\n",
       "    }\n",
       "</style>\n",
       "<table border=\"1\" class=\"dataframe\">\n",
       "  <thead>\n",
       "    <tr style=\"text-align: right;\">\n",
       "      <th></th>\n",
       "      <th>job_duration_in_current_job_level</th>\n",
       "      <th>job_duration_in_current_person_level</th>\n",
       "      <th>job_duration_in_current_branch</th>\n",
       "      <th>gender</th>\n",
       "      <th>age</th>\n",
       "      <th>number_of_dependences</th>\n",
       "      <th>year_graduated</th>\n",
       "      <th>job_duration_from_training</th>\n",
       "      <th>branch_rotation</th>\n",
       "      <th>job_rotation</th>\n",
       "      <th>assign_of_otherposition</th>\n",
       "      <th>annual leave</th>\n",
       "      <th>sick_leaves</th>\n",
       "      <th>Last_achievement_%</th>\n",
       "      <th>Achievement_above_100%_during3quartal</th>\n",
       "    </tr>\n",
       "  </thead>\n",
       "  <tbody>\n",
       "    <tr>\n",
       "      <th>0</th>\n",
       "      <td>1.256981</td>\n",
       "      <td>1.256981</td>\n",
       "      <td>0.707107</td>\n",
       "      <td>1</td>\n",
       "      <td>32</td>\n",
       "      <td>0</td>\n",
       "      <td>2009</td>\n",
       "      <td>6</td>\n",
       "      <td>4</td>\n",
       "      <td>2</td>\n",
       "      <td>6</td>\n",
       "      <td>3</td>\n",
       "      <td>7</td>\n",
       "      <td>84.02</td>\n",
       "      <td>0.0</td>\n",
       "    </tr>\n",
       "    <tr>\n",
       "      <th>1</th>\n",
       "      <td>1.224745</td>\n",
       "      <td>1.224745</td>\n",
       "      <td>1.256981</td>\n",
       "      <td>2</td>\n",
       "      <td>29</td>\n",
       "      <td>0</td>\n",
       "      <td>2014</td>\n",
       "      <td>2</td>\n",
       "      <td>2</td>\n",
       "      <td>2</td>\n",
       "      <td>0</td>\n",
       "      <td>1</td>\n",
       "      <td>0</td>\n",
       "      <td>63.74</td>\n",
       "      <td>0.0</td>\n",
       "    </tr>\n",
       "    <tr>\n",
       "      <th>2</th>\n",
       "      <td>0.500000</td>\n",
       "      <td>0.500000</td>\n",
       "      <td>1.081665</td>\n",
       "      <td>2</td>\n",
       "      <td>31</td>\n",
       "      <td>1</td>\n",
       "      <td>2011</td>\n",
       "      <td>4</td>\n",
       "      <td>2</td>\n",
       "      <td>2</td>\n",
       "      <td>0</td>\n",
       "      <td>2</td>\n",
       "      <td>1</td>\n",
       "      <td>88.19</td>\n",
       "      <td>1.0</td>\n",
       "    </tr>\n",
       "    <tr>\n",
       "      <th>3</th>\n",
       "      <td>1.256981</td>\n",
       "      <td>1.256981</td>\n",
       "      <td>1.802776</td>\n",
       "      <td>2</td>\n",
       "      <td>30</td>\n",
       "      <td>1</td>\n",
       "      <td>2014</td>\n",
       "      <td>3</td>\n",
       "      <td>1</td>\n",
       "      <td>3</td>\n",
       "      <td>0</td>\n",
       "      <td>3</td>\n",
       "      <td>0</td>\n",
       "      <td>25.94</td>\n",
       "      <td>0.0</td>\n",
       "    </tr>\n",
       "    <tr>\n",
       "      <th>4</th>\n",
       "      <td>1.352775</td>\n",
       "      <td>1.352775</td>\n",
       "      <td>1.224745</td>\n",
       "      <td>1</td>\n",
       "      <td>35</td>\n",
       "      <td>0</td>\n",
       "      <td>2007</td>\n",
       "      <td>5</td>\n",
       "      <td>3</td>\n",
       "      <td>2</td>\n",
       "      <td>0</td>\n",
       "      <td>3</td>\n",
       "      <td>0</td>\n",
       "      <td>82.32</td>\n",
       "      <td>0.0</td>\n",
       "    </tr>\n",
       "    <tr>\n",
       "      <th>...</th>\n",
       "      <td>...</td>\n",
       "      <td>...</td>\n",
       "      <td>...</td>\n",
       "      <td>...</td>\n",
       "      <td>...</td>\n",
       "      <td>...</td>\n",
       "      <td>...</td>\n",
       "      <td>...</td>\n",
       "      <td>...</td>\n",
       "      <td>...</td>\n",
       "      <td>...</td>\n",
       "      <td>...</td>\n",
       "      <td>...</td>\n",
       "      <td>...</td>\n",
       "      <td>...</td>\n",
       "    </tr>\n",
       "    <tr>\n",
       "      <th>5995</th>\n",
       "      <td>1.292285</td>\n",
       "      <td>1.292285</td>\n",
       "      <td>0.707107</td>\n",
       "      <td>2</td>\n",
       "      <td>32</td>\n",
       "      <td>0</td>\n",
       "      <td>2015</td>\n",
       "      <td>2</td>\n",
       "      <td>2</td>\n",
       "      <td>2</td>\n",
       "      <td>0</td>\n",
       "      <td>4</td>\n",
       "      <td>0</td>\n",
       "      <td>58.60</td>\n",
       "      <td>0.0</td>\n",
       "    </tr>\n",
       "    <tr>\n",
       "      <th>5996</th>\n",
       "      <td>1.352775</td>\n",
       "      <td>1.352775</td>\n",
       "      <td>1.581139</td>\n",
       "      <td>2</td>\n",
       "      <td>31</td>\n",
       "      <td>1</td>\n",
       "      <td>2011</td>\n",
       "      <td>5</td>\n",
       "      <td>3</td>\n",
       "      <td>2</td>\n",
       "      <td>7</td>\n",
       "      <td>3</td>\n",
       "      <td>0</td>\n",
       "      <td>90.64</td>\n",
       "      <td>3.0</td>\n",
       "    </tr>\n",
       "    <tr>\n",
       "      <th>5997</th>\n",
       "      <td>1.385641</td>\n",
       "      <td>1.385641</td>\n",
       "      <td>1.224745</td>\n",
       "      <td>2</td>\n",
       "      <td>29</td>\n",
       "      <td>0</td>\n",
       "      <td>2013</td>\n",
       "      <td>3</td>\n",
       "      <td>2</td>\n",
       "      <td>3</td>\n",
       "      <td>0</td>\n",
       "      <td>16</td>\n",
       "      <td>0</td>\n",
       "      <td>13.02</td>\n",
       "      <td>0.0</td>\n",
       "    </tr>\n",
       "    <tr>\n",
       "      <th>5998</th>\n",
       "      <td>1.385641</td>\n",
       "      <td>1.385641</td>\n",
       "      <td>0.648074</td>\n",
       "      <td>2</td>\n",
       "      <td>40</td>\n",
       "      <td>2</td>\n",
       "      <td>2003</td>\n",
       "      <td>14</td>\n",
       "      <td>7</td>\n",
       "      <td>6</td>\n",
       "      <td>8</td>\n",
       "      <td>2</td>\n",
       "      <td>0</td>\n",
       "      <td>82.26</td>\n",
       "      <td>0.0</td>\n",
       "    </tr>\n",
       "    <tr>\n",
       "      <th>5999</th>\n",
       "      <td>1.352775</td>\n",
       "      <td>1.352775</td>\n",
       "      <td>0.707107</td>\n",
       "      <td>2</td>\n",
       "      <td>33</td>\n",
       "      <td>1</td>\n",
       "      <td>2008</td>\n",
       "      <td>5</td>\n",
       "      <td>4</td>\n",
       "      <td>3</td>\n",
       "      <td>2</td>\n",
       "      <td>3</td>\n",
       "      <td>0</td>\n",
       "      <td>66.62</td>\n",
       "      <td>0.0</td>\n",
       "    </tr>\n",
       "  </tbody>\n",
       "</table>\n",
       "<p>6000 rows × 15 columns</p>\n",
       "</div>"
      ],
      "text/plain": [
       "      job_duration_in_current_job_level  job_duration_in_current_person_level  \\\n",
       "0                              1.256981                              1.256981   \n",
       "1                              1.224745                              1.224745   \n",
       "2                              0.500000                              0.500000   \n",
       "3                              1.256981                              1.256981   \n",
       "4                              1.352775                              1.352775   \n",
       "...                                 ...                                   ...   \n",
       "5995                           1.292285                              1.292285   \n",
       "5996                           1.352775                              1.352775   \n",
       "5997                           1.385641                              1.385641   \n",
       "5998                           1.385641                              1.385641   \n",
       "5999                           1.352775                              1.352775   \n",
       "\n",
       "      job_duration_in_current_branch  gender  age  number_of_dependences  \\\n",
       "0                           0.707107       1   32                      0   \n",
       "1                           1.256981       2   29                      0   \n",
       "2                           1.081665       2   31                      1   \n",
       "3                           1.802776       2   30                      1   \n",
       "4                           1.224745       1   35                      0   \n",
       "...                              ...     ...  ...                    ...   \n",
       "5995                        0.707107       2   32                      0   \n",
       "5996                        1.581139       2   31                      1   \n",
       "5997                        1.224745       2   29                      0   \n",
       "5998                        0.648074       2   40                      2   \n",
       "5999                        0.707107       2   33                      1   \n",
       "\n",
       "      year_graduated  job_duration_from_training  branch_rotation  \\\n",
       "0               2009                           6                4   \n",
       "1               2014                           2                2   \n",
       "2               2011                           4                2   \n",
       "3               2014                           3                1   \n",
       "4               2007                           5                3   \n",
       "...              ...                         ...              ...   \n",
       "5995            2015                           2                2   \n",
       "5996            2011                           5                3   \n",
       "5997            2013                           3                2   \n",
       "5998            2003                          14                7   \n",
       "5999            2008                           5                4   \n",
       "\n",
       "      job_rotation  assign_of_otherposition  annual leave  sick_leaves  \\\n",
       "0                2                        6             3            7   \n",
       "1                2                        0             1            0   \n",
       "2                2                        0             2            1   \n",
       "3                3                        0             3            0   \n",
       "4                2                        0             3            0   \n",
       "...            ...                      ...           ...          ...   \n",
       "5995             2                        0             4            0   \n",
       "5996             2                        7             3            0   \n",
       "5997             3                        0            16            0   \n",
       "5998             6                        8             2            0   \n",
       "5999             3                        2             3            0   \n",
       "\n",
       "      Last_achievement_%  Achievement_above_100%_during3quartal  \n",
       "0                  84.02                                    0.0  \n",
       "1                  63.74                                    0.0  \n",
       "2                  88.19                                    1.0  \n",
       "3                  25.94                                    0.0  \n",
       "4                  82.32                                    0.0  \n",
       "...                  ...                                    ...  \n",
       "5995               58.60                                    0.0  \n",
       "5996               90.64                                    3.0  \n",
       "5997               13.02                                    0.0  \n",
       "5998               82.26                                    0.0  \n",
       "5999               66.62                                    0.0  \n",
       "\n",
       "[6000 rows x 15 columns]"
      ]
     },
     "execution_count": 24,
     "metadata": {},
     "output_type": "execute_result"
    }
   ],
   "source": [
    "X_test[cont_col]"
   ]
  },
  {
   "cell_type": "markdown",
   "metadata": {},
   "source": [
    "# Scaler"
   ]
  },
  {
   "cell_type": "code",
   "execution_count": 47,
   "metadata": {},
   "outputs": [],
   "source": [
    "int_col=[col for col in X_train.columns if X_train[col].dtype=='int64']\n",
    "int_col_test=[col for col in X_test.columns if X_test[col].dtype=='int64']"
   ]
  },
  {
   "cell_type": "code",
   "execution_count": 48,
   "metadata": {},
   "outputs": [
    {
     "data": {
      "text/html": [
       "<div>\n",
       "<style scoped>\n",
       "    .dataframe tbody tr th:only-of-type {\n",
       "        vertical-align: middle;\n",
       "    }\n",
       "\n",
       "    .dataframe tbody tr th {\n",
       "        vertical-align: top;\n",
       "    }\n",
       "\n",
       "    .dataframe thead th {\n",
       "        text-align: right;\n",
       "    }\n",
       "</style>\n",
       "<table border=\"1\" class=\"dataframe\">\n",
       "  <thead>\n",
       "    <tr style=\"text-align: right;\">\n",
       "      <th></th>\n",
       "      <th>gender</th>\n",
       "      <th>age</th>\n",
       "      <th>number_of_dependences</th>\n",
       "      <th>job_duration_from_training</th>\n",
       "      <th>branch_rotation</th>\n",
       "      <th>job_rotation</th>\n",
       "      <th>assign_of_otherposition</th>\n",
       "      <th>annual leave</th>\n",
       "      <th>sick_leaves</th>\n",
       "    </tr>\n",
       "  </thead>\n",
       "  <tbody>\n",
       "    <tr>\n",
       "      <th>0</th>\n",
       "      <td>1</td>\n",
       "      <td>32</td>\n",
       "      <td>0</td>\n",
       "      <td>6</td>\n",
       "      <td>4</td>\n",
       "      <td>2</td>\n",
       "      <td>6</td>\n",
       "      <td>3</td>\n",
       "      <td>7</td>\n",
       "    </tr>\n",
       "    <tr>\n",
       "      <th>1</th>\n",
       "      <td>2</td>\n",
       "      <td>29</td>\n",
       "      <td>0</td>\n",
       "      <td>2</td>\n",
       "      <td>2</td>\n",
       "      <td>2</td>\n",
       "      <td>0</td>\n",
       "      <td>1</td>\n",
       "      <td>0</td>\n",
       "    </tr>\n",
       "    <tr>\n",
       "      <th>2</th>\n",
       "      <td>2</td>\n",
       "      <td>31</td>\n",
       "      <td>1</td>\n",
       "      <td>4</td>\n",
       "      <td>2</td>\n",
       "      <td>2</td>\n",
       "      <td>0</td>\n",
       "      <td>2</td>\n",
       "      <td>1</td>\n",
       "    </tr>\n",
       "    <tr>\n",
       "      <th>3</th>\n",
       "      <td>2</td>\n",
       "      <td>30</td>\n",
       "      <td>1</td>\n",
       "      <td>3</td>\n",
       "      <td>1</td>\n",
       "      <td>3</td>\n",
       "      <td>0</td>\n",
       "      <td>3</td>\n",
       "      <td>0</td>\n",
       "    </tr>\n",
       "    <tr>\n",
       "      <th>4</th>\n",
       "      <td>1</td>\n",
       "      <td>35</td>\n",
       "      <td>0</td>\n",
       "      <td>5</td>\n",
       "      <td>3</td>\n",
       "      <td>2</td>\n",
       "      <td>0</td>\n",
       "      <td>3</td>\n",
       "      <td>0</td>\n",
       "    </tr>\n",
       "    <tr>\n",
       "      <th>...</th>\n",
       "      <td>...</td>\n",
       "      <td>...</td>\n",
       "      <td>...</td>\n",
       "      <td>...</td>\n",
       "      <td>...</td>\n",
       "      <td>...</td>\n",
       "      <td>...</td>\n",
       "      <td>...</td>\n",
       "      <td>...</td>\n",
       "    </tr>\n",
       "    <tr>\n",
       "      <th>5995</th>\n",
       "      <td>2</td>\n",
       "      <td>32</td>\n",
       "      <td>0</td>\n",
       "      <td>2</td>\n",
       "      <td>2</td>\n",
       "      <td>2</td>\n",
       "      <td>0</td>\n",
       "      <td>4</td>\n",
       "      <td>0</td>\n",
       "    </tr>\n",
       "    <tr>\n",
       "      <th>5996</th>\n",
       "      <td>2</td>\n",
       "      <td>31</td>\n",
       "      <td>1</td>\n",
       "      <td>5</td>\n",
       "      <td>3</td>\n",
       "      <td>2</td>\n",
       "      <td>7</td>\n",
       "      <td>3</td>\n",
       "      <td>0</td>\n",
       "    </tr>\n",
       "    <tr>\n",
       "      <th>5997</th>\n",
       "      <td>2</td>\n",
       "      <td>29</td>\n",
       "      <td>0</td>\n",
       "      <td>3</td>\n",
       "      <td>2</td>\n",
       "      <td>3</td>\n",
       "      <td>0</td>\n",
       "      <td>16</td>\n",
       "      <td>0</td>\n",
       "    </tr>\n",
       "    <tr>\n",
       "      <th>5998</th>\n",
       "      <td>2</td>\n",
       "      <td>40</td>\n",
       "      <td>2</td>\n",
       "      <td>14</td>\n",
       "      <td>7</td>\n",
       "      <td>6</td>\n",
       "      <td>8</td>\n",
       "      <td>2</td>\n",
       "      <td>0</td>\n",
       "    </tr>\n",
       "    <tr>\n",
       "      <th>5999</th>\n",
       "      <td>2</td>\n",
       "      <td>33</td>\n",
       "      <td>1</td>\n",
       "      <td>5</td>\n",
       "      <td>4</td>\n",
       "      <td>3</td>\n",
       "      <td>2</td>\n",
       "      <td>3</td>\n",
       "      <td>0</td>\n",
       "    </tr>\n",
       "  </tbody>\n",
       "</table>\n",
       "<p>6000 rows × 9 columns</p>\n",
       "</div>"
      ],
      "text/plain": [
       "      gender  age  number_of_dependences  job_duration_from_training  \\\n",
       "0          1   32                      0                           6   \n",
       "1          2   29                      0                           2   \n",
       "2          2   31                      1                           4   \n",
       "3          2   30                      1                           3   \n",
       "4          1   35                      0                           5   \n",
       "...      ...  ...                    ...                         ...   \n",
       "5995       2   32                      0                           2   \n",
       "5996       2   31                      1                           5   \n",
       "5997       2   29                      0                           3   \n",
       "5998       2   40                      2                          14   \n",
       "5999       2   33                      1                           5   \n",
       "\n",
       "      branch_rotation  job_rotation  assign_of_otherposition  annual leave  \\\n",
       "0                   4             2                        6             3   \n",
       "1                   2             2                        0             1   \n",
       "2                   2             2                        0             2   \n",
       "3                   1             3                        0             3   \n",
       "4                   3             2                        0             3   \n",
       "...               ...           ...                      ...           ...   \n",
       "5995                2             2                        0             4   \n",
       "5996                3             2                        7             3   \n",
       "5997                2             3                        0            16   \n",
       "5998                7             6                        8             2   \n",
       "5999                4             3                        2             3   \n",
       "\n",
       "      sick_leaves  \n",
       "0               7  \n",
       "1               0  \n",
       "2               1  \n",
       "3               0  \n",
       "4               0  \n",
       "...           ...  \n",
       "5995            0  \n",
       "5996            0  \n",
       "5997            0  \n",
       "5998            0  \n",
       "5999            0  \n",
       "\n",
       "[6000 rows x 9 columns]"
      ]
     },
     "execution_count": 48,
     "metadata": {},
     "output_type": "execute_result"
    }
   ],
   "source": [
    "X_train[int_col]\n",
    "X_test[int_col_test]"
   ]
  },
  {
   "cell_type": "code",
   "execution_count": 49,
   "metadata": {},
   "outputs": [],
   "source": [
    "float_col=[col for col in X_train.columns if X_train[col].dtype=='float64']\n",
    "float_col_test=[col for col in X_test.columns if X_test[col].dtype=='float64']"
   ]
  },
  {
   "cell_type": "code",
   "execution_count": 50,
   "metadata": {},
   "outputs": [
    {
     "data": {
      "text/plain": [
       "['job_duration_in_current_job_level',\n",
       " 'job_duration_in_current_person_level',\n",
       " 'job_duration_in_current_branch',\n",
       " 'Last_achievement_%',\n",
       " 'Achievement_above_100%_during3quartal']"
      ]
     },
     "execution_count": 50,
     "metadata": {},
     "output_type": "execute_result"
    }
   ],
   "source": [
    "float_col"
   ]
  },
  {
   "cell_type": "code",
   "execution_count": 51,
   "metadata": {},
   "outputs": [
    {
     "data": {
      "text/html": [
       "<div>\n",
       "<style scoped>\n",
       "    .dataframe tbody tr th:only-of-type {\n",
       "        vertical-align: middle;\n",
       "    }\n",
       "\n",
       "    .dataframe tbody tr th {\n",
       "        vertical-align: top;\n",
       "    }\n",
       "\n",
       "    .dataframe thead th {\n",
       "        text-align: right;\n",
       "    }\n",
       "</style>\n",
       "<table border=\"1\" class=\"dataframe\">\n",
       "  <thead>\n",
       "    <tr style=\"text-align: right;\">\n",
       "      <th></th>\n",
       "      <th>job_duration_in_current_job_level</th>\n",
       "      <th>job_duration_in_current_person_level</th>\n",
       "      <th>job_duration_in_current_branch</th>\n",
       "      <th>Last_achievement_%</th>\n",
       "      <th>Achievement_above_100%_during3quartal</th>\n",
       "    </tr>\n",
       "  </thead>\n",
       "  <tbody>\n",
       "    <tr>\n",
       "      <th>0</th>\n",
       "      <td>1.352775</td>\n",
       "      <td>1.352775</td>\n",
       "      <td>1.732051</td>\n",
       "      <td>46.37</td>\n",
       "      <td>0.0</td>\n",
       "    </tr>\n",
       "    <tr>\n",
       "      <th>1</th>\n",
       "      <td>1.292285</td>\n",
       "      <td>1.292285</td>\n",
       "      <td>1.039230</td>\n",
       "      <td>47.68</td>\n",
       "      <td>0.0</td>\n",
       "    </tr>\n",
       "    <tr>\n",
       "      <th>2</th>\n",
       "      <td>2.565151</td>\n",
       "      <td>2.308679</td>\n",
       "      <td>1.780449</td>\n",
       "      <td>40.73</td>\n",
       "      <td>0.0</td>\n",
       "    </tr>\n",
       "    <tr>\n",
       "      <th>3</th>\n",
       "      <td>2.828427</td>\n",
       "      <td>1.000000</td>\n",
       "      <td>1.385641</td>\n",
       "      <td>47.42</td>\n",
       "      <td>0.0</td>\n",
       "    </tr>\n",
       "    <tr>\n",
       "      <th>4</th>\n",
       "      <td>2.828427</td>\n",
       "      <td>2.828427</td>\n",
       "      <td>0.707107</td>\n",
       "      <td>47.18</td>\n",
       "      <td>0.0</td>\n",
       "    </tr>\n",
       "    <tr>\n",
       "      <th>...</th>\n",
       "      <td>...</td>\n",
       "      <td>...</td>\n",
       "      <td>...</td>\n",
       "      <td>...</td>\n",
       "      <td>...</td>\n",
       "    </tr>\n",
       "    <tr>\n",
       "      <th>11148</th>\n",
       "      <td>1.256981</td>\n",
       "      <td>1.256981</td>\n",
       "      <td>1.224745</td>\n",
       "      <td>50.87</td>\n",
       "      <td>0.0</td>\n",
       "    </tr>\n",
       "    <tr>\n",
       "      <th>11149</th>\n",
       "      <td>1.385641</td>\n",
       "      <td>1.385641</td>\n",
       "      <td>1.802776</td>\n",
       "      <td>79.91</td>\n",
       "      <td>0.0</td>\n",
       "    </tr>\n",
       "    <tr>\n",
       "      <th>11150</th>\n",
       "      <td>1.256981</td>\n",
       "      <td>1.256981</td>\n",
       "      <td>1.385641</td>\n",
       "      <td>78.38</td>\n",
       "      <td>0.0</td>\n",
       "    </tr>\n",
       "    <tr>\n",
       "      <th>11151</th>\n",
       "      <td>1.118034</td>\n",
       "      <td>1.118034</td>\n",
       "      <td>0.000000</td>\n",
       "      <td>85.94</td>\n",
       "      <td>1.0</td>\n",
       "    </tr>\n",
       "    <tr>\n",
       "      <th>11152</th>\n",
       "      <td>2.828427</td>\n",
       "      <td>2.121320</td>\n",
       "      <td>1.473092</td>\n",
       "      <td>79.99</td>\n",
       "      <td>1.0</td>\n",
       "    </tr>\n",
       "  </tbody>\n",
       "</table>\n",
       "<p>11152 rows × 5 columns</p>\n",
       "</div>"
      ],
      "text/plain": [
       "       job_duration_in_current_job_level  \\\n",
       "0                               1.352775   \n",
       "1                               1.292285   \n",
       "2                               2.565151   \n",
       "3                               2.828427   \n",
       "4                               2.828427   \n",
       "...                                  ...   \n",
       "11148                           1.256981   \n",
       "11149                           1.385641   \n",
       "11150                           1.256981   \n",
       "11151                           1.118034   \n",
       "11152                           2.828427   \n",
       "\n",
       "       job_duration_in_current_person_level  job_duration_in_current_branch  \\\n",
       "0                                  1.352775                        1.732051   \n",
       "1                                  1.292285                        1.039230   \n",
       "2                                  2.308679                        1.780449   \n",
       "3                                  1.000000                        1.385641   \n",
       "4                                  2.828427                        0.707107   \n",
       "...                                     ...                             ...   \n",
       "11148                              1.256981                        1.224745   \n",
       "11149                              1.385641                        1.802776   \n",
       "11150                              1.256981                        1.385641   \n",
       "11151                              1.118034                        0.000000   \n",
       "11152                              2.121320                        1.473092   \n",
       "\n",
       "       Last_achievement_%  Achievement_above_100%_during3quartal  \n",
       "0                   46.37                                    0.0  \n",
       "1                   47.68                                    0.0  \n",
       "2                   40.73                                    0.0  \n",
       "3                   47.42                                    0.0  \n",
       "4                   47.18                                    0.0  \n",
       "...                   ...                                    ...  \n",
       "11148               50.87                                    0.0  \n",
       "11149               79.91                                    0.0  \n",
       "11150               78.38                                    0.0  \n",
       "11151               85.94                                    1.0  \n",
       "11152               79.99                                    1.0  \n",
       "\n",
       "[11152 rows x 5 columns]"
      ]
     },
     "execution_count": 51,
     "metadata": {},
     "output_type": "execute_result"
    }
   ],
   "source": [
    "X_train[float_col]"
   ]
  },
  {
   "cell_type": "code",
   "execution_count": 52,
   "metadata": {},
   "outputs": [
    {
     "ename": "NameError",
     "evalue": "name 'scaler' is not defined",
     "output_type": "error",
     "traceback": [
      "\u001b[1;31m---------------------------------------------------------------------------\u001b[0m",
      "\u001b[1;31mNameError\u001b[0m                                 Traceback (most recent call last)",
      "\u001b[1;32m<ipython-input-52-41cf125f2bc0>\u001b[0m in \u001b[0;36m<module>\u001b[1;34m\u001b[0m\n\u001b[1;32m----> 1\u001b[1;33m \u001b[0mX_float_scale\u001b[0m \u001b[1;33m=\u001b[0m \u001b[0mscaler\u001b[0m\u001b[1;33m.\u001b[0m\u001b[0mfit_transform\u001b[0m\u001b[1;33m(\u001b[0m\u001b[0mX_train\u001b[0m\u001b[1;33m[\u001b[0m\u001b[0mfloat_col\u001b[0m\u001b[1;33m]\u001b[0m\u001b[1;33m)\u001b[0m\u001b[1;33m\u001b[0m\u001b[1;33m\u001b[0m\u001b[0m\n\u001b[0m\u001b[0;32m      2\u001b[0m \u001b[0mX_float_scale_test\u001b[0m \u001b[1;33m=\u001b[0m \u001b[0mscaler\u001b[0m\u001b[1;33m.\u001b[0m\u001b[0mfit_transform\u001b[0m\u001b[1;33m(\u001b[0m\u001b[0mX_test\u001b[0m\u001b[1;33m[\u001b[0m\u001b[0mfloat_col_test\u001b[0m\u001b[1;33m]\u001b[0m\u001b[1;33m)\u001b[0m\u001b[1;33m\u001b[0m\u001b[1;33m\u001b[0m\u001b[0m\n",
      "\u001b[1;31mNameError\u001b[0m: name 'scaler' is not defined"
     ]
    }
   ],
   "source": [
    "X_float_scale = scaler.fit_transform(X_train[float_col])\n",
    "X_float_scale_test = scaler.fit_transform(X_test[float_col_test])"
   ]
  },
  {
   "cell_type": "code",
   "execution_count": null,
   "metadata": {
    "scrolled": true
   },
   "outputs": [],
   "source": [
    "X_scale_train = pd.DataFrame()\n",
    "X_scale_train[float_col] = pd.DataFrame(X_float_scale)\n",
    "X_scale_test = pd.DataFrame()\n",
    "X_scale_test[float_col_test] = pd.DataFrame(X_float_scale_test)"
   ]
  },
  {
   "cell_type": "code",
   "execution_count": null,
   "metadata": {},
   "outputs": [],
   "source": [
    "X_scale_test"
   ]
  },
  {
   "cell_type": "markdown",
   "metadata": {},
   "source": [
    "# Feature Concate"
   ]
  },
  {
   "cell_type": "code",
   "execution_count": null,
   "metadata": {},
   "outputs": [],
   "source": [
    "categorical"
   ]
  },
  {
   "cell_type": "code",
   "execution_count": null,
   "metadata": {},
   "outputs": [],
   "source": [
    "def drop_column(df,col):\n",
    "    df.drop(col,axis=1,inplace=True)\n",
    "\n",
    "#concat with normal data\n",
    "# X_train=pd.concat([categorical,X_train[cont_col]],axis=1)\n",
    "# X_test=pd.concat([categorical_test,X_test[cont_col_test]],axis=1)\n",
    "# X_train.info()\n",
    "\n",
    "#concat with data scaler\n",
    "X_train=pd.concat([categorical,X_scale_train],axis=1)\n",
    "X_test=pd.concat([categorical_test,X_scale_test],axis=1)\n",
    "X_train.info()\n",
    "X_test.head()\n"
   ]
  },
  {
   "cell_type": "markdown",
   "metadata": {},
   "source": [
    "# Feature Correlation"
   ]
  },
  {
   "cell_type": "code",
   "execution_count": null,
   "metadata": {
    "scrolled": true
   },
   "outputs": [],
   "source": [
    "\n",
    "from sklearn.ensemble import ExtraTreesClassifier\n",
    "import matplotlib.pyplot as plt\n",
    "model = ExtraTreesClassifier()\n",
    "model.fit(X_train,y_train)\n",
    "print(model.feature_importances_) #use inbuilt class feature_importances of tree based classifiers\n",
    "#plot graph of feature importances for better visualization\n",
    "feat_importances = pd.Series(model.feature_importances_, index=X_train.columns)\n",
    "feat_importances.nlargest(10).plot(kind='barh')\n",
    "plt.show()"
   ]
  },
  {
   "cell_type": "code",
   "execution_count": null,
   "metadata": {},
   "outputs": [],
   "source": [
    "num_feats= len(X_train.columns)\n",
    "print(num_feats)"
   ]
  },
  {
   "cell_type": "code",
   "execution_count": null,
   "metadata": {},
   "outputs": [],
   "source": [
    "# drop_column(X_train,'job_level')\n",
    "# drop_column(X_train,'person_level')\n",
    "# drop_column(X_train,'marital_status_maried(Y/N)')\n",
    "# drop_column(X_train,'Employee_type')\n",
    "# drop_column(X_train,'Achievement_above_100%_during3quartal')\n",
    "# drop_column(X_train,'Education_level')\n",
    "\n",
    "# drop_column(X_test,'job_level')\n",
    "# drop_column(X_test,'person_level')\n",
    "# drop_column(X_test,'marital_status_maried(Y/N)')\n",
    "# drop_column(X_test,'Employee_type')\n",
    "# drop_column(X_test,'Achievement_above_100%_during3quartal')\n",
    "# drop_column(X_test,'Education_level')"
   ]
  },
  {
   "cell_type": "code",
   "execution_count": null,
   "metadata": {
    "execution": {
     "iopub.execute_input": "2020-12-10T13:19:19.020111Z",
     "iopub.status.busy": "2020-12-10T13:19:19.012353Z",
     "iopub.status.idle": "2020-12-10T13:19:19.434058Z",
     "shell.execute_reply": "2020-12-10T13:19:19.433361Z"
    },
    "papermill": {
     "duration": 0.44459,
     "end_time": "2020-12-10T13:19:19.434185",
     "exception": false,
     "start_time": "2020-12-10T13:19:18.989595",
     "status": "completed"
    },
    "tags": []
   },
   "outputs": [],
   "source": [
    "# cat_columns = ['job_level', 'person_level', 'Employee_type', 'marital_status_maried(Y/N)', 'Education_level', 'Employee_type']\n",
    "# for cat in cat_columns:\n",
    "#     labelencoder = LabelEncoder()\n",
    "#     X_train_[cat] = labelencoder.fit_transform(X_train_[cat].astype(str))\n",
    "#     X_test_[cat] = labelencoder.transform(X_test_[cat].astype(str))       \n",
    "    "
   ]
  },
  {
   "cell_type": "code",
   "execution_count": null,
   "metadata": {},
   "outputs": [],
   "source": [
    "\n",
    "#split x_train and x_val\n",
    "X_train_, X_test_, y_train_, y_test_ = train_test_split(X_train, y_train, test_size=0.2, random_state=38)\n"
   ]
  },
  {
   "cell_type": "code",
   "execution_count": null,
   "metadata": {},
   "outputs": [],
   "source": [
    "X_train_"
   ]
  },
  {
   "cell_type": "markdown",
   "metadata": {
    "papermill": {
     "duration": 0.030123,
     "end_time": "2020-12-10T13:19:40.765736",
     "exception": false,
     "start_time": "2020-12-10T13:19:40.735613",
     "status": "completed"
    },
    "tags": []
   },
   "source": [
    "# CatBoost"
   ]
  },
  {
   "cell_type": "code",
   "execution_count": null,
   "metadata": {},
   "outputs": [],
   "source": [
    "cate_features_index = np.where(X_train.dtypes != float)[0] \n",
    "cate_features_index"
   ]
  },
  {
   "cell_type": "code",
   "execution_count": null,
   "metadata": {},
   "outputs": [],
   "source": [
    "\n",
    "from catboost import Pool, CatBoostClassifier, cv\n",
    "cate_features_index = np.where(X_train.dtypes != float)[0] \n",
    "X_train_, X_test_, y_train_, y_test_ = train_test_split(X_train, y_train, test_size=0.2, random_state=38)\n"
   ]
  },
  {
   "cell_type": "code",
   "execution_count": null,
   "metadata": {
    "papermill": {
     "duration": 0.031317,
     "end_time": "2020-12-10T13:19:40.827876",
     "exception": false,
     "start_time": "2020-12-10T13:19:40.796559",
     "status": "completed"
    },
    "tags": []
   },
   "outputs": [],
   "source": [
    "model = CatBoostClassifier(iterations=1500, learning_rate=0.01, l2_leaf_reg=3.5, depth=8, rsm=0.98, loss_function= 'Logloss', eval_metric='AUC',use_best_model=True,random_seed=42)"
   ]
  },
  {
   "cell_type": "code",
   "execution_count": null,
   "metadata": {},
   "outputs": [],
   "source": []
  },
  {
   "cell_type": "code",
   "execution_count": null,
   "metadata": {
    "papermill": {
     "duration": 0.031264,
     "end_time": "2020-12-10T13:19:40.889702",
     "exception": false,
     "start_time": "2020-12-10T13:19:40.858438",
     "status": "completed"
    },
    "scrolled": true,
    "tags": []
   },
   "outputs": [],
   "source": [
    "model.fit(X_train_, y_train_, cat_features=cate_features_index,eval_set=(X_test_, y_test_))\n"
   ]
  },
  {
   "cell_type": "code",
   "execution_count": null,
   "metadata": {
    "papermill": {
     "duration": 0.030885,
     "end_time": "2020-12-10T13:19:40.953209",
     "exception": false,
     "start_time": "2020-12-10T13:19:40.922324",
     "status": "completed"
    },
    "tags": []
   },
   "outputs": [],
   "source": [
    "pred = model.predict_proba(X_test)\n",
    "preds= pred[:,1]"
   ]
  },
  {
   "cell_type": "code",
   "execution_count": null,
   "metadata": {},
   "outputs": [],
   "source": [
    "preds"
   ]
  },
  {
   "cell_type": "code",
   "execution_count": null,
   "metadata": {},
   "outputs": [],
   "source": [
    "#generating submission csv\n",
    "submission = pd.DataFrame(preds)\n",
    "#save the file to your directory\n",
    "submission.to_csv('test-catboost2.csv',index_label='index',header=['value'])"
   ]
  },
  {
   "cell_type": "markdown",
   "metadata": {},
   "source": [
    "# LGBM"
   ]
  },
  {
   "cell_type": "code",
   "execution_count": null,
   "metadata": {
    "execution": {
     "iopub.execute_input": "2020-12-10T13:19:20.395042Z",
     "iopub.status.busy": "2020-12-10T13:19:20.389332Z",
     "iopub.status.idle": "2020-12-10T13:19:39.915236Z",
     "shell.execute_reply": "2020-12-10T13:19:39.915983Z"
    },
    "papermill": {
     "duration": 19.630226,
     "end_time": "2020-12-10T13:19:39.916179",
     "exception": false,
     "start_time": "2020-12-10T13:19:20.285953",
     "status": "completed"
    },
    "tags": []
   },
   "outputs": [],
   "source": [
    "class lgbm_target :\n",
    "    def __init__(self, x_train, y_train, x_test, y_test) :\n",
    "        self.x_train = x_train\n",
    "        self.y_train = y_train\n",
    "        self.x_test = x_test\n",
    "        self.y_test = y_test\n",
    "        \n",
    "    def clean_param(self, param) :\n",
    "        params = {'boosting_type':'gbdt', 'class_weight':None, 'colsample_bytree':1.0, \n",
    "                  'importance_type':'split', 'learning_rate':0.1,\n",
    "                  'min_child_samples':2000, 'min_split_gain':0.0, 'n_estimators':10, 'objective':None,\n",
    "                  'random_state':0, 'reg_alpha':0.0, 'reg_lambda':0.0, 'silent':True,\n",
    "                  'subsample':1.0, 'subsample_for_bin':200000, 'subsample_freq':0}\n",
    "        params['num_leaves'] = int(param['num_leaves'])\n",
    "        params['min_child_weight'] = int(param['min_child_weight'])\n",
    "        params['max_depth'] = int(param['max_depth'])\n",
    "        params['learning_rate'] = 0.1\n",
    "        params['min_data_in_bin'] = 1\n",
    "        params['min_data'] = 1\n",
    "        \n",
    "        params['min_child_samples'] = int(param['min_child_samples'])\n",
    "        params['bagging_fraction'] = param['bagging_fraction']\n",
    "        params['lambda_l1'] = param['lambda_l1']\n",
    "        params['lambda_l2'] = param['lambda_l2']\n",
    "\n",
    "        return params\n",
    "        \n",
    "    def evaluate(self, min_child_weight, max_depth, num_leaves,\n",
    "                min_child_samples, bagging_fraction, lambda_l1, lambda_l2):\n",
    "        params = {'num_leaves':num_leaves, \n",
    "                  'min_child_weight':min_child_weight, \n",
    "                  'max_depth':max_depth,\n",
    "                 'min_child_samples':min_child_samples,\n",
    "                 'bagging_fraction' : bagging_fraction,\n",
    "                 'lambda_l1' : lambda_l1,\n",
    "                 'lambda_l2' : lambda_l2}\n",
    "        \n",
    "        params = self.clean_param(params)\n",
    "        res=[]\n",
    "        lgbm_model = lgb.LGBMClassifier(**params)\n",
    "        lgbm_model.fit(self.x_train, self.y_train)\n",
    "        y_pred = lgbm_model.predict_proba(self.x_test)\n",
    "        predictions = y_pred[:,1]\n",
    "        res.append(predictions)\n",
    "        acc = roc_auc_score(self.y_test,predictions)\n",
    "        print('######',acc)\n",
    "        return acc\n",
    "\n",
    "\n",
    "lt = lgbm_target(X_train_, y_train_, X_test_, y_test_)\n",
    "lgbmBO = BayesianOptimization(lt.evaluate, {'min_child_weight': (0.01, 1),\n",
    "                                              'max_depth': (7, 25),\n",
    "                                              'num_leaves': (5, 50),\n",
    "                                            'min_child_samples' :(10,50),\n",
    "                                            'bagging_fraction' : (0.5,1),\n",
    "                                            'lambda_l1' : (0,1),\n",
    "                                            'lambda_l2' : (0,1)\n",
    "                                           }, \n",
    "                             random_state=3)\n",
    "\n",
    "lgbmBO.maximize(init_points=10, n_iter=55)"
   ]
  },
  {
   "cell_type": "code",
   "execution_count": null,
   "metadata": {},
   "outputs": [],
   "source": [
    "b=lgbmBO.max['params']\n",
    "print(b)"
   ]
  },
  {
   "cell_type": "markdown",
   "metadata": {},
   "source": [
    "|   iter    |  target   | baggin... | lambda_l1 | lambda_l2 | max_depth | min_ch... | min_ch... | num_le... |"
   ]
  },
  {
   "cell_type": "code",
   "execution_count": null,
   "metadata": {},
   "outputs": [],
   "source": [
    "params = {'min_child_weight': b['min_child_weight'],\n",
    "              'max_depth': round(b['max_depth']),\n",
    "              'num_leaves': round(b['num_leaves']),\n",
    "            'min_child_samples' :round(b['min_child_samples']),\n",
    "            'bagging_fraction' : b['bagging_fraction'],\n",
    "            'lambda_l1' : b['lambda_l1'],\n",
    "            'lambda_l2' : b['lambda_l2']\n",
    "           }\n",
    "model_lgb = lgb.LGBMClassifier(**params)\n",
    "model_lgb.fit(X_train,y_train)\n",
    "model_lgb.predict_proba(X_test)[:,1]\n",
    "sample_submission['Best Performance'] = model_lgb.predict_proba(X_test)[:,1]\n",
    "# sample_submission.to_csv('submission.csv')"
   ]
  },
  {
   "cell_type": "code",
   "execution_count": null,
   "metadata": {
    "execution": {
     "iopub.execute_input": "2020-12-10T13:19:40.090183Z",
     "iopub.status.busy": "2020-12-10T13:19:40.088954Z",
     "iopub.status.idle": "2020-12-10T13:19:40.475302Z",
     "shell.execute_reply": "2020-12-10T13:19:40.476148Z"
    },
    "papermill": {
     "duration": 0.440823,
     "end_time": "2020-12-10T13:19:40.476351",
     "exception": false,
     "start_time": "2020-12-10T13:19:40.035528",
     "status": "completed"
    },
    "tags": []
   },
   "outputs": [],
   "source": [
    "'''ADVERSARIAL VALIDATION'''\n",
    "y_label_adv = np.zeros((X_train.shape[0]+ X_test.shape[0]))\n",
    "y_label_adv[:X_train.shape[0]] = 1\n",
    "adversarial_data = pd.concat((X_train,X_test))\n",
    "# model_lgb = lgb.LGBMClassifier()\n",
    "X_train_, X_test_, y_train_, y_test_ = train_test_split(adversarial_data, y_label_adv, test_size=0.33, random_state=38)\n",
    "\n",
    "model_lgb.fit(X_train_,y_train_)\n",
    "y_pred  = model_lgb.predict(X_test_)\n",
    "roc_auc_score(y_pred,y_test_)"
   ]
  },
  {
   "cell_type": "code",
   "execution_count": null,
   "metadata": {},
   "outputs": [],
   "source": [
    "'''0.55 acc'''\n",
    "params = {'min_child_weight': 0.6715,\n",
    "              'max_depth': 12,\n",
    "              'num_leaves': 20,\n",
    "            'min_child_samples' :24,\n",
    "            'bagging_fraction' : 0.8538,\n",
    "            'lambda_l1' : 0.7467,\n",
    "            'lambda_l2' : 0.6911\n",
    "           }\n",
    "model_lgb = lgb.LGBMClassifier(**params)\n",
    "model_lgb.fit(X_train,y_train)\n",
    "model_lgb.predict_proba(X_test)[:,1]\n",
    "sample_submission['Best Performance'] = model_lgb.predict_proba(X_test)[:,1]\n",
    "# sample_submission.to_csv('submission.csv')"
   ]
  },
  {
   "cell_type": "code",
   "execution_count": null,
   "metadata": {},
   "outputs": [],
   "source": [
    "'''0.55 acc-modified'''\n",
    "params = {'min_child_weight': 0.5,\n",
    "              'max_depth': 12,\n",
    "              'num_leaves': 20,\n",
    "            'min_child_samples' :24,\n",
    "            'bagging_fraction' : 0.7,\n",
    "            'lambda_l1' : 0.746,\n",
    "            'lambda_l2' : 0.6\n",
    "           }\n",
    "model_lgb = lgb.LGBMClassifier(**params)\n",
    "model_lgb.fit(X_train,y_train)\n",
    "model_lgb.predict_proba(X_test)[:,1]\n",
    "sample_submission['Best Performance'] = model_lgb.predict_proba(X_test)[:,1]\n",
    "# sample_submission.to_csv('submission.csv')"
   ]
  },
  {
   "cell_type": "code",
   "execution_count": null,
   "metadata": {
    "papermill": {
     "duration": 0.039263,
     "end_time": "2020-12-10T13:19:40.557476",
     "exception": false,
     "start_time": "2020-12-10T13:19:40.518213",
     "status": "completed"
    },
    "tags": []
   },
   "outputs": [],
   "source": [
    "y_label_adv.shape"
   ]
  },
  {
   "cell_type": "code",
   "execution_count": null,
   "metadata": {
    "papermill": {
     "duration": 0.039994,
     "end_time": "2020-12-10T13:19:40.637426",
     "exception": false,
     "start_time": "2020-12-10T13:19:40.597432",
     "status": "completed"
    },
    "tags": []
   },
   "outputs": [],
   "source": [
    "sample_submission"
   ]
  },
  {
   "cell_type": "code",
   "execution_count": null,
   "metadata": {
    "papermill": {
     "duration": 0.03079,
     "end_time": "2020-12-10T13:19:40.704883",
     "exception": false,
     "start_time": "2020-12-10T13:19:40.674093",
     "status": "completed"
    },
    "tags": []
   },
   "outputs": [],
   "source": [
    "sample_submission.to_csv('submission_54.csv', index=False)"
   ]
  },
  {
   "cell_type": "markdown",
   "metadata": {},
   "source": [
    "# XGBoost"
   ]
  },
  {
   "cell_type": "code",
   "execution_count": null,
   "metadata": {},
   "outputs": [],
   "source": [
    "import xgboost as xgb"
   ]
  },
  {
   "cell_type": "code",
   "execution_count": null,
   "metadata": {},
   "outputs": [],
   "source": [
    "from sklearn.model_selection import cross_val_score\n",
    "# fit model to training data\n",
    "model = xgb.XGBRFClassifier(n_estimators=1000, random_state=1245)\n",
    "# cross validation score\n",
    "score = cross_val_score(model, X_train, y_train, cv=5, scoring=\"roc_auc\", n_jobs=-1)\n",
    "print(\"XGB ROC-AUC Mean Score: \", np.mean(score))"
   ]
  },
  {
   "cell_type": "code",
   "execution_count": null,
   "metadata": {},
   "outputs": [],
   "source": [
    "import warnings\n",
    "warnings.filterwarnings('ignore')"
   ]
  },
  {
   "cell_type": "code",
   "execution_count": null,
   "metadata": {},
   "outputs": [],
   "source": [
    "\n",
    "dtrain = xgb.DMatrix(X_train, y_train, feature_names=X_train.columns.values)\n",
    "\n",
    "def hyp_xgb(max_depth, subsample, colsample_bytree,min_child_weight, gamma, learning_rate):\n",
    "    params = {\n",
    "    'objective': 'binary:logistic',\n",
    "    'eval_metric':'auc',\n",
    "    'nthread':-1,\n",
    "#     'booster':'dart'\n",
    "    'booster':'gbtree'\n",
    "     }\n",
    "    \n",
    "    params['max_depth'] = int(round(max_depth))\n",
    "    params['subsample'] = max(min(subsample, 1), 0)\n",
    "    params['colsample_bytree'] = max(min(colsample_bytree, 1), 0)\n",
    "    params['min_child_weight'] = int(min_child_weight)\n",
    "    params['gamma'] = max(gamma, 0)\n",
    "    params['learning_rate'] = learning_rate\n",
    "    scores = xgb.cv(params, dtrain, num_boost_round=500,verbose_eval=False, \n",
    "                    early_stopping_rounds=10, nfold=5)\n",
    "    return scores['test-auc-mean'].iloc[-1]"
   ]
  },
  {
   "cell_type": "code",
   "execution_count": null,
   "metadata": {},
   "outputs": [],
   "source": [
    "pds ={\n",
    "  'min_child_weight':(3, 20),\n",
    "  'gamma':(0, 10),\n",
    "  'subsample':(0.5, 1),\n",
    "  'colsample_bytree':(0.1, 1),\n",
    "  'max_depth': (2, 15),\n",
    "  'learning_rate': (0.01, 0.5)\n",
    "}"
   ]
  },
  {
   "cell_type": "code",
   "execution_count": null,
   "metadata": {
    "scrolled": true
   },
   "outputs": [],
   "source": [
    "optimizer = BayesianOptimization(hyp_xgb, pds, random_state=1)\n",
    "optimizer.maximize(init_points=5, n_iter=55)"
   ]
  },
  {
   "cell_type": "code",
   "execution_count": null,
   "metadata": {},
   "outputs": [],
   "source": [
    "a = optimizer.max['params']"
   ]
  },
  {
   "cell_type": "code",
   "execution_count": null,
   "metadata": {},
   "outputs": [],
   "source": [
    "round(a['min_child_weight'])"
   ]
  },
  {
   "cell_type": "code",
   "execution_count": null,
   "metadata": {},
   "outputs": [],
   "source": [
    "params = {\n",
    "    'colsample_bytree': a['colsample_bytree'],\n",
    " 'gamma': a['gamma'],\n",
    " 'learning_rate': a['learning_rate'],\n",
    " 'max_depth': round(a['max_depth']),\n",
    " 'min_child_weight': round(a['min_child_weight']),\n",
    " 'subsample': a['subsample'],\n",
    "    'objective': 'binary:logistic',\n",
    "    'eval_metric':'auc',\n",
    "    'n_jobs':-1\n",
    "}"
   ]
  },
  {
   "cell_type": "code",
   "execution_count": null,
   "metadata": {},
   "outputs": [],
   "source": [
    "xgbr =  xgb.XGBClassifier(**params, random_state=1245, nthread=-1)\n",
    "score = cross_val_score(xgbr, X_train, y_train, cv=5, scoring=\"roc_auc\", n_jobs=-1)\n",
    "print(\"XGB ROC-AUC Mean Score: \", np.mean(score))"
   ]
  },
  {
   "cell_type": "code",
   "execution_count": null,
   "metadata": {},
   "outputs": [],
   "source": [
    "\n",
    "xgbr.fit(X_train, y_train)"
   ]
  },
  {
   "cell_type": "code",
   "execution_count": null,
   "metadata": {},
   "outputs": [],
   "source": [
    "'''ADVERSARIAL VALIDATION'''\n",
    "y_label_adv = np.zeros((X_train.shape[0]+ X_test.shape[0]))\n",
    "y_label_adv[:X_train.shape[0]] = 1\n",
    "adversarial_data = pd.concat((X_train,X_test))\n",
    "# model_lgb = lgb.LGBMClassifier()\n",
    "X_train_, X_test_, y_train_, y_test_ = train_test_split(adversarial_data, y_label_adv, test_size=0.33, random_state=38)\n",
    "\n",
    "xgbr.fit(X_train_,y_train_)\n",
    "y_pred  = model_lgb.predict(X_test_)\n",
    "roc_auc_score(y_pred,y_test_)"
   ]
  },
  {
   "cell_type": "code",
   "execution_count": null,
   "metadata": {},
   "outputs": [],
   "source": [
    "# Predict the probability using predict_proba\n",
    "y_pred = xgbr.predict_proba(X_test)[:,1]"
   ]
  },
  {
   "cell_type": "code",
   "execution_count": null,
   "metadata": {},
   "outputs": [],
   "source": [
    "y_pred"
   ]
  },
  {
   "cell_type": "code",
   "execution_count": null,
   "metadata": {},
   "outputs": [],
   "source": [
    "#generating submission csv\n",
    "submission = pd.DataFrame(y_pred)\n",
    "#save the file to your directory\n",
    "submission.to_csv('test-xgboost.csv',index_label='index',header=['value'])"
   ]
  },
  {
   "cell_type": "code",
   "execution_count": null,
   "metadata": {},
   "outputs": [],
   "source": []
  }
 ],
 "metadata": {
  "kernelspec": {
   "display_name": "Python 3",
   "language": "python",
   "name": "python3"
  },
  "language_info": {
   "codemirror_mode": {
    "name": "ipython",
    "version": 3
   },
   "file_extension": ".py",
   "mimetype": "text/x-python",
   "name": "python",
   "nbconvert_exporter": "python",
   "pygments_lexer": "ipython3",
   "version": "3.7.5"
  },
  "papermill": {
   "duration": 29.686791,
   "end_time": "2020-12-10T13:19:41.095949",
   "environment_variables": {},
   "exception": null,
   "input_path": "__notebook__.ipynb",
   "output_path": "__notebook__.ipynb",
   "parameters": {},
   "start_time": "2020-12-10T13:19:11.409158",
   "version": "2.1.0"
  }
 },
 "nbformat": 4,
 "nbformat_minor": 4
}
