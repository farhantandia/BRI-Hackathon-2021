{
 "cells": [
  {
   "cell_type": "code",
   "execution_count": 1,
   "metadata": {},
   "outputs": [],
   "source": [
    "import numpy as np\n",
    "import pandas as pd\n",
    "from sklearn.impute import KNNImputer\n",
    "from sklearn.model_selection import cross_val_score\n",
    "from sklearn.ensemble import RandomForestClassifier\n",
    "from imblearn.combine import SMOTEENN\n",
    "import os"
   ]
  },
  {
   "cell_type": "code",
   "execution_count": 2,
   "metadata": {},
   "outputs": [],
   "source": [
    "train = pd.read_csv('./train.csv')\n",
    "train.drop_duplicates(inplace = True)\n",
    "train.dropna(inplace = True)\n",
    "test = pd.read_csv('./test.csv')"
   ]
  },
  {
   "cell_type": "code",
   "execution_count": 3,
   "metadata": {},
   "outputs": [],
   "source": [
    "job_level = {'JG06' : 3,'JG05' : 2,'JG04' : 1,'JG03' : 0}\n",
    "train['job_level'] = train['job_level'].map(job_level)\n",
    "test['job_level'] = test['job_level'].map(job_level)\n",
    "\n",
    "person_level = {'PG08' : 7,'PG07' : 6,'PG06' : 5,'PG05' : 4,'PG04' : 3,'PG03' : 2,'PG02' : 1,'PG01' : 0}\n",
    "train['person_level'] = train['person_level'].map(person_level)\n",
    "test['person_level'] = test['person_level'].map(person_level)\n",
    "\n",
    "gender = {1 : '1',2 : '2'}\n",
    "train['gender'] = train['gender'].map(gender)\n",
    "test['gender'] = test['gender'].map(gender)\n",
    "\n",
    "Education_level = {'level_5' : 5,'level_4' : 4,'level_3' : 3,'level_2' : 2,'level_1' : 1,'level_0' : 0}\n",
    "train['Education_level'] = train['Education_level'].map(Education_level)\n",
    "test['Education_level'] = test['Education_level'].map(Education_level)\n",
    "\n",
    "train = pd.get_dummies(train, prefix = ['type','gender','married'])\n",
    "test = pd.get_dummies(test, prefix = ['type','gender','married'])\n",
    "\n",
    "tahun = 2020\n",
    "train['age'] = tahun - train['age']\n",
    "train['year_graduated'] = train['year_graduated'] + train['age'] - tahun\n",
    "test['age'] = tahun - test['age']\n",
    "test['year_graduated'] = test['year_graduated'] + test['age'] - tahun"
   ]
  },
  {
   "cell_type": "code",
   "execution_count": 4,
   "metadata": {},
   "outputs": [],
   "source": [
    "train = train.sort_values('Best Performance').reset_index(drop = True)\n",
    "\n",
    "for index in train[(train['GPA'] == 0)|(train['GPA'] > 4)|(train['GPA'] < 2.5)].index:\n",
    "    train.at[index,'GPA'] = np.nan\n",
    "\n",
    "imputed = KNNImputer(n_neighbors = 7).fit_transform(train.drop(columns = 'Best Performance').to_numpy())\n",
    "train['GPA'] = pd.Series(imputed[:,8]).values\n",
    "\n",
    "for index in test[(test['GPA'] == 0)|(test['GPA'] > 4)|(test['GPA'] < 2.5)].index:\n",
    "    test.at[index,'GPA'] = np.nan\n",
    "\n",
    "imputed = KNNImputer(n_neighbors = 7).fit_transform(test.to_numpy())\n",
    "test['GPA'] = pd.Series(imputed[:,8]).values"
   ]
  },
  {
   "cell_type": "code",
   "execution_count": 9,
   "metadata": {},
   "outputs": [
    {
     "name": "stdout",
     "output_type": "stream",
     "text": [
      "Jumlah karyawan average performance mula-mula : 9515\n",
      "Jumlah karyawan best performance mula-mula    : 1637\n"
     ]
    }
   ],
   "source": [
    "X = train.drop(columns = 'Best Performance')\n",
    "y = train['Best Performance']\n",
    "\n",
    "average = y.value_counts()[0]\n",
    "best = y.value_counts()[1]\n",
    "\n",
    "print('Jumlah karyawan average performance mula-mula :',average)\n",
    "print('Jumlah karyawan best performance mula-mula    :',best)"
   ]
  },
  {
   "cell_type": "code",
   "execution_count": 10,
   "metadata": {},
   "outputs": [],
   "source": [
    "# ratio = average/best\n",
    "\n",
    "# while (ratio <= 0.95)|(ratio >= 1.05):\n",
    "#     X, y = SMOTEENN(random_state = 42).fit_resample(X,y)\n",
    "#     average = y.value_counts()[0]\n",
    "#     best = y.value_counts()[1]\n",
    "#     ratio = average/best\n",
    "\n",
    "# print('Jumlah karyawan average performance setelah resampling :',average)\n",
    "# print('Jumlah karyawan best performance setelah resampling    :',best)"
   ]
  },
  {
   "cell_type": "code",
   "execution_count": null,
   "metadata": {},
   "outputs": [],
   "source": [
    "clf = RandomForestClassifier(random_state = 42)\n",
    "\n",
    "scores = cross_val_score(clf,X,y,scoring = 'roc_auc')\n",
    "print('Rerata skor ROC AUC',scores.mean(),'dengan simpangan baku',scores.std())"
   ]
  },
  {
   "cell_type": "code",
   "execution_count": 8,
   "metadata": {},
   "outputs": [],
   "source": [
    "model = clf.fit(X,y)\n",
    "\n",
    "pd.Series(model.predict_proba(test)[:,1],name = 'Best Performance').to_csv('submission.csv',index_label = 'index')"
   ]
  },
  {
   "cell_type": "code",
   "execution_count": null,
   "metadata": {},
   "outputs": [],
   "source": []
  }
 ],
 "metadata": {
  "kernelspec": {
   "display_name": "Python 3",
   "language": "python",
   "name": "python3"
  },
  "language_info": {
   "codemirror_mode": {
    "name": "ipython",
    "version": 3
   },
   "file_extension": ".py",
   "mimetype": "text/x-python",
   "name": "python",
   "nbconvert_exporter": "python",
   "pygments_lexer": "ipython3",
   "version": "3.7.5"
  }
 },
 "nbformat": 4,
 "nbformat_minor": 5
}
